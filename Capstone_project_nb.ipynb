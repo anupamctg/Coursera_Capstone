{
 "cells": [
  {
   "cell_type": "markdown",
   "id": "5166ded3-c11e-4b71-9946-2b70e63540d8",
   "metadata": {},
   "source": [
    "This notebook is part of the 1st assignment of the capstone Project"
   ]
  },
  {
   "cell_type": "code",
   "execution_count": 2,
   "id": "cda264d8-c58a-4b57-b38e-769b38f635cf",
   "metadata": {},
   "outputs": [
    {
     "name": "stdout",
     "output_type": "stream",
     "text": [
      "Hello Capstone Project Course!\n"
     ]
    }
   ],
   "source": [
    "import pandas as pd\n",
    "import numpy as np\n",
    "\n",
    "print ('Hello Capstone Project Course!')"
   ]
  }
 ],
 "metadata": {
  "kernelspec": {
   "display_name": "Python",
   "language": "python",
   "name": "conda-env-python-py"
  },
  "language_info": {
   "codemirror_mode": {
    "name": "ipython",
    "version": 3
   },
   "file_extension": ".py",
   "mimetype": "text/x-python",
   "name": "python",
   "nbconvert_exporter": "python",
   "pygments_lexer": "ipython3",
   "version": "3.6.13"
  }
 },
 "nbformat": 4,
 "nbformat_minor": 5
}
